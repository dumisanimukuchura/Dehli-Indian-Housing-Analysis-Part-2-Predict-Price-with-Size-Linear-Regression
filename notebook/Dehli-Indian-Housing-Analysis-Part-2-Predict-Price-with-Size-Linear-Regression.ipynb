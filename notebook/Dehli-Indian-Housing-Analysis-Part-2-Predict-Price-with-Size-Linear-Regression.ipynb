{
 "cells": [
  {
   "cell_type": "markdown",
   "id": "8ee46014-2a2d-4d11-8759-9c4c73cbd34c",
   "metadata": {},
   "source": [
    "## Dehli Indian Housing Part 2 Predicting Price with Size using Linear Regression by Dumisani Maxwell Mukuchura\n",
    "\n",
    "#### Dataset Source: *https://www.kaggle.com/datasets/bhavyadhingra00020/india-rental-house-price*\n",
    "\n",
    "##### Contact: dumisanimukuchura@gmail.com | LinkedIn: https://www.linkedin.com/in/dumisani-maxwell-mukuchura-4859b7170/\n",
    "\n",
    "##### This Project will explore the Dehli Indian Housing and build a model predicting rental price from size. \n",
    "\n",
    "##### As seen from Part one Rental Price has a positive correlation of approx. 0.57 with House Size"
   ]
  },
  {
   "cell_type": "markdown",
   "id": "ca8b18f5-21a7-4071-9bbf-a440b928c748",
   "metadata": {},
   "source": [
    "## Prepare Data"
   ]
  },
  {
   "cell_type": "markdown",
   "id": "21ad5bc1-b1ac-44bf-9b6f-323e3b2f8078",
   "metadata": {},
   "source": [
    "### 1. Molule, Library and Data Imports"
   ]
  },
  {
   "cell_type": "code",
   "execution_count": 18,
   "id": "dfe7c429-dc53-438d-bffb-fb5d60dd4ef5",
   "metadata": {},
   "outputs": [],
   "source": [
    "#Import Standard Modules and Libraries to use\n",
    "\n",
    "import os #For file and directory operations\n",
    "\n",
    "#Data Libraries\n",
    "import pandas as pd\n",
    "import numpy as np\n",
    "\n",
    "#Visualization Libraries\n",
    "import matplotlib.pyplot as plt\n",
    "\n",
    "#Model Related Libraries: Linear Regression \n",
    "from sklearn.linear_model import LinearRegression\n",
    "from sklearn.metrics import mean_absolute_error\n",
    "from sklearn.utils.validation import check_is_fitted"
   ]
  },
  {
   "cell_type": "markdown",
   "id": "3e88e07c-5777-45d6-a919-f0b8ed7d6dd6",
   "metadata": {},
   "source": [
    "### Defining file path and import 'Dehli-Indian-Housing-Clean-Data.csv' from EDA Project"
   ]
  },
  {
   "cell_type": "code",
   "execution_count": 19,
   "id": "c88f5aa7-ee63-4922-ac0a-060fa9347958",
   "metadata": {},
   "outputs": [],
   "source": [
    "#Defining file path and import 'Dehli-Indian-Housing-Clean-Data.csv'\n",
    "# Get the current working directory\n",
    "current_dir = os.getcwd()\n",
    "\n",
    "# Trim to one level above\n",
    "base_dir = os.path.dirname(current_dir)\n",
    "\n",
    "# Construct the path to the data folder\n",
    "data_dir = os.path.join(base_dir, \"data\")\n",
    "\n",
    "# Construct the full path to the CSV file\n",
    "csv_file_path = os.path.join(data_dir, \"Dehli-Indian-Housing-Clean-Data.csv\")"
   ]
  },
  {
   "cell_type": "code",
   "execution_count": 26,
   "id": "9d47c0b5-4483-4399-a715-b72c72972f17",
   "metadata": {},
   "outputs": [],
   "source": [
    "# Wrangle function to automate the Data Importing and any Additional Cleaning\n",
    "\n",
    "def wrangle(csv_file_path):\n",
    "\n",
    "    # Read the CSV file into a DataFrame\n",
    "    housing_data = pd.read_csv(csv_file_path)\n",
    "\n",
    "    #Make a Copy and Maintain the original dataset as is \n",
    "    housing_df = housing_data.copy()\n",
    "\n",
    "    #Subset with \"house_size_in_sqft\" between 0.25 and 0.75 quartiles\n",
    "    low, high = housing_df[\"house_size_in_sqft\"].quantile([0.25, 0.75])\n",
    "    mask_area = housing_df[\"house_size_in_sqft\"].between(low, high)\n",
    "\n",
    "    housing_df = housing_df[mask_area]\n",
    "\n",
    "    return housing_df"
   ]
  },
  {
   "cell_type": "code",
   "execution_count": 27,
   "id": "765a7c05-f86f-46b9-a175-f955de79f95e",
   "metadata": {},
   "outputs": [
    {
     "name": "stdout",
     "output_type": "stream",
     "text": [
      "df shape: (1177, 19)\n"
     ]
    },
    {
     "data": {
      "text/html": [
       "<div>\n",
       "<style scoped>\n",
       "    .dataframe tbody tr th:only-of-type {\n",
       "        vertical-align: middle;\n",
       "    }\n",
       "\n",
       "    .dataframe tbody tr th {\n",
       "        vertical-align: top;\n",
       "    }\n",
       "\n",
       "    .dataframe thead th {\n",
       "        text-align: right;\n",
       "    }\n",
       "</style>\n",
       "<table border=\"1\" class=\"dataframe\">\n",
       "  <thead>\n",
       "    <tr style=\"text-align: right;\">\n",
       "      <th></th>\n",
       "      <th>house_type</th>\n",
       "      <th>location</th>\n",
       "      <th>city</th>\n",
       "      <th>latitude</th>\n",
       "      <th>longitude</th>\n",
       "      <th>price</th>\n",
       "      <th>currency</th>\n",
       "      <th>numBathrooms</th>\n",
       "      <th>numBalconies</th>\n",
       "      <th>isNegotiable</th>\n",
       "      <th>priceSqFt</th>\n",
       "      <th>verificationDate</th>\n",
       "      <th>description</th>\n",
       "      <th>SecurityDeposit</th>\n",
       "      <th>Status</th>\n",
       "      <th>numBedroom</th>\n",
       "      <th>house_layout</th>\n",
       "      <th>house_size_in_sqft</th>\n",
       "      <th>price_approx_usd</th>\n",
       "    </tr>\n",
       "  </thead>\n",
       "  <tbody>\n",
       "    <tr>\n",
       "      <th>2</th>\n",
       "      <td>Villa</td>\n",
       "      <td>Tuglak Road</td>\n",
       "      <td>Delhi</td>\n",
       "      <td>28.595453</td>\n",
       "      <td>77.210335</td>\n",
       "      <td>2010105</td>\n",
       "      <td>INR</td>\n",
       "      <td>4.0</td>\n",
       "      <td>2.0</td>\n",
       "      <td>Not Negotiable</td>\n",
       "      <td>4.21</td>\n",
       "      <td>Posted a year ago</td>\n",
       "      <td>Its four bhk villa in the super location of de...</td>\n",
       "      <td>60,10,155</td>\n",
       "      <td>Unfurnished</td>\n",
       "      <td>4</td>\n",
       "      <td>BHK</td>\n",
       "      <td>5562.0</td>\n",
       "      <td>23438.72</td>\n",
       "    </tr>\n",
       "    <tr>\n",
       "      <th>5</th>\n",
       "      <td>Independent Floor</td>\n",
       "      <td>Saket</td>\n",
       "      <td>Delhi</td>\n",
       "      <td>28.523548</td>\n",
       "      <td>77.200142</td>\n",
       "      <td>235595</td>\n",
       "      <td>INR</td>\n",
       "      <td>3.0</td>\n",
       "      <td>2.0</td>\n",
       "      <td>Not Negotiable</td>\n",
       "      <td>0.96</td>\n",
       "      <td>Posted a year ago</td>\n",
       "      <td>Its three bhk builder floor in the super locat...</td>\n",
       "      <td>7,54,225</td>\n",
       "      <td>Unfurnished</td>\n",
       "      <td>3</td>\n",
       "      <td>BHK</td>\n",
       "      <td>2856.0</td>\n",
       "      <td>2747.14</td>\n",
       "    </tr>\n",
       "    <tr>\n",
       "      <th>7</th>\n",
       "      <td>Independent Floor</td>\n",
       "      <td>Saket</td>\n",
       "      <td>Delhi</td>\n",
       "      <td>28.523548</td>\n",
       "      <td>77.200142</td>\n",
       "      <td>301012</td>\n",
       "      <td>INR</td>\n",
       "      <td>3.0</td>\n",
       "      <td>2.0</td>\n",
       "      <td>Not Negotiable</td>\n",
       "      <td>1.23</td>\n",
       "      <td>Posted a year ago</td>\n",
       "      <td>Well designed 3 bhk builder floor is available...</td>\n",
       "      <td>10,11,001</td>\n",
       "      <td>Unfurnished</td>\n",
       "      <td>3</td>\n",
       "      <td>BHK</td>\n",
       "      <td>2856.0</td>\n",
       "      <td>3509.93</td>\n",
       "    </tr>\n",
       "    <tr>\n",
       "      <th>8</th>\n",
       "      <td>Independent Floor</td>\n",
       "      <td>Saket</td>\n",
       "      <td>Delhi</td>\n",
       "      <td>28.523548</td>\n",
       "      <td>77.200142</td>\n",
       "      <td>301012</td>\n",
       "      <td>INR</td>\n",
       "      <td>3.0</td>\n",
       "      <td>2.0</td>\n",
       "      <td>Not Negotiable</td>\n",
       "      <td>1.23</td>\n",
       "      <td>Posted a year ago</td>\n",
       "      <td>Its three bhk builder floor in the super locat...</td>\n",
       "      <td>10,10,202</td>\n",
       "      <td>Unfurnished</td>\n",
       "      <td>3</td>\n",
       "      <td>BHK</td>\n",
       "      <td>2856.0</td>\n",
       "      <td>3509.93</td>\n",
       "    </tr>\n",
       "    <tr>\n",
       "      <th>11</th>\n",
       "      <td>Independent Floor</td>\n",
       "      <td>Maharani Bagh</td>\n",
       "      <td>Delhi</td>\n",
       "      <td>28.572620</td>\n",
       "      <td>77.264221</td>\n",
       "      <td>401015</td>\n",
       "      <td>INR</td>\n",
       "      <td>4.0</td>\n",
       "      <td>2.0</td>\n",
       "      <td>Not Negotiable</td>\n",
       "      <td>0.79</td>\n",
       "      <td>Posted a year ago</td>\n",
       "      <td>Its four bhk builder floor in the super locati...</td>\n",
       "      <td>12,02,002</td>\n",
       "      <td>Unfurnished</td>\n",
       "      <td>4</td>\n",
       "      <td>BHK</td>\n",
       "      <td>5896.0</td>\n",
       "      <td>4676.01</td>\n",
       "    </tr>\n",
       "  </tbody>\n",
       "</table>\n",
       "</div>"
      ],
      "text/plain": [
       "            house_type       location   city   latitude  longitude    price  \\\n",
       "2               Villa     Tuglak Road  Delhi  28.595453  77.210335  2010105   \n",
       "5   Independent Floor           Saket  Delhi  28.523548  77.200142   235595   \n",
       "7   Independent Floor           Saket  Delhi  28.523548  77.200142   301012   \n",
       "8   Independent Floor           Saket  Delhi  28.523548  77.200142   301012   \n",
       "11  Independent Floor   Maharani Bagh  Delhi  28.572620  77.264221   401015   \n",
       "\n",
       "   currency  numBathrooms  numBalconies    isNegotiable  priceSqFt  \\\n",
       "2       INR           4.0           2.0  Not Negotiable       4.21   \n",
       "5       INR           3.0           2.0  Not Negotiable       0.96   \n",
       "7       INR           3.0           2.0  Not Negotiable       1.23   \n",
       "8       INR           3.0           2.0  Not Negotiable       1.23   \n",
       "11      INR           4.0           2.0  Not Negotiable       0.79   \n",
       "\n",
       "     verificationDate                                        description  \\\n",
       "2   Posted a year ago  Its four bhk villa in the super location of de...   \n",
       "5   Posted a year ago  Its three bhk builder floor in the super locat...   \n",
       "7   Posted a year ago  Well designed 3 bhk builder floor is available...   \n",
       "8   Posted a year ago  Its three bhk builder floor in the super locat...   \n",
       "11  Posted a year ago  Its four bhk builder floor in the super locati...   \n",
       "\n",
       "   SecurityDeposit       Status  numBedroom house_layout  house_size_in_sqft  \\\n",
       "2        60,10,155  Unfurnished           4          BHK              5562.0   \n",
       "5         7,54,225  Unfurnished           3          BHK              2856.0   \n",
       "7        10,11,001  Unfurnished           3          BHK              2856.0   \n",
       "8        10,10,202  Unfurnished           3          BHK              2856.0   \n",
       "11       12,02,002  Unfurnished           4          BHK              5896.0   \n",
       "\n",
       "    price_approx_usd  \n",
       "2           23438.72  \n",
       "5            2747.14  \n",
       "7            3509.93  \n",
       "8            3509.93  \n",
       "11           4676.01  "
      ]
     },
     "execution_count": 27,
     "metadata": {},
     "output_type": "execute_result"
    }
   ],
   "source": [
    "#Using Wrangle funtion to create the housing_df DataFrame\n",
    "\n",
    "housing_df = wrangle(csv_file_path)\n",
    "\n",
    "#Check if the import was successful with a shape check\n",
    "print(\"df shape:\", housing_df.shape)\n",
    "\n",
    "#Check if the import was successful with a head() check\n",
    "housing_df.head()"
   ]
  },
  {
   "cell_type": "code",
   "execution_count": 22,
   "id": "f064d2c9-9b49-478c-afe3-ab1dd9237245",
   "metadata": {},
   "outputs": [
    {
     "name": "stdout",
     "output_type": "stream",
     "text": [
      "<class 'pandas.core.frame.DataFrame'>\n",
      "RangeIndex: 2171 entries, 0 to 2170\n",
      "Data columns (total 19 columns):\n",
      " #   Column              Non-Null Count  Dtype  \n",
      "---  ------              --------------  -----  \n",
      " 0   house_type          2171 non-null   object \n",
      " 1   location            2171 non-null   object \n",
      " 2   city                2171 non-null   object \n",
      " 3   latitude            2171 non-null   float64\n",
      " 4   longitude           2171 non-null   float64\n",
      " 5   price               2171 non-null   int64  \n",
      " 6   currency            2171 non-null   object \n",
      " 7   numBathrooms        2171 non-null   float64\n",
      " 8   numBalconies        2171 non-null   float64\n",
      " 9   isNegotiable        2171 non-null   object \n",
      " 10  priceSqFt           2171 non-null   float64\n",
      " 11  verificationDate    2171 non-null   object \n",
      " 12  description         2171 non-null   object \n",
      " 13  SecurityDeposit     2171 non-null   object \n",
      " 14  Status              2171 non-null   object \n",
      " 15  numBedroom          2171 non-null   int64  \n",
      " 16  house_layout        2171 non-null   object \n",
      " 17  house_size_in_sqft  2171 non-null   float64\n",
      " 18  price_approx_usd    2171 non-null   float64\n",
      "dtypes: float64(7), int64(2), object(10)\n",
      "memory usage: 322.4+ KB\n"
     ]
    }
   ],
   "source": [
    "# Checking DataFrame Details\n",
    "\n",
    "housing_df.info()"
   ]
  },
  {
   "cell_type": "markdown",
   "id": "2b802814-1a5d-49f5-b046-ad809af00043",
   "metadata": {},
   "source": [
    "## Explore"
   ]
  },
  {
   "cell_type": "markdown",
   "id": "a9e78b53-189a-430a-b2cc-cdae3700f9d4",
   "metadata": {},
   "source": [
    "###  2. Further Analysis into the Two key Columns we shall need \"house_size_in_sqft\" and \"price_approx_usd\".\n",
    "\n",
    "- We saw in the previous project that property size is an important factor in determining price. With that in mind, let's look at the distribution of property sizes in our dataset."
   ]
  },
  {
   "cell_type": "code",
   "execution_count": 11,
   "id": "15e3fab7-ddb2-4bfc-bcc9-a4691405cdae",
   "metadata": {},
   "outputs": [
    {
     "data": {
      "image/png": "[encoded data removed]",
      "text/plain": [
       "<Figure size 640x480 with 1 Axes>"
      ]
     },
     "metadata": {},
     "output_type": "display_data"
    }
   ],
   "source": [
    "# Scatter Plot of \"house_size_in_sqft\" and \"price_approx_usd\".\n",
    "\n",
    "plt.scatter (x=housing_df[\"house_size_in_sqft\"], y=housing_df[\"price_approx_usd\"])\n",
    "plt.xlabel(\"House Sizes in Square Feet\")\n",
    "plt.ylabel(\"Price in US$\")\n",
    "plt.title(\"The Relationship between House Size and Price in US$\")\n",
    "\n",
    "plt.show();"
   ]
  },
  {
   "cell_type": "markdown",
   "id": "7819658c-b0fc-4cbc-9405-01300dbffb99",
   "metadata": {},
   "source": [
    "- From the relationship, we can notice a positive correlation, but we also have Outliers that need to be explored."
   ]
  },
  {
   "cell_type": "code",
   "execution_count": 23,
   "id": "ac7fb9e0-3b6c-437a-979c-7fc47e0cc6e3",
   "metadata": {},
   "outputs": [
    {
     "data": {
      "image/png": "[encoded data removed]",
      "text/plain": [
       "<Figure size 640x480 with 1 Axes>"
      ]
     },
     "metadata": {},
     "output_type": "display_data"
    }
   ],
   "source": [
    "# Box Plot of the Relationsing between Property Size and Property Price: \"house_size_in_sqft\" and \"price_approx_usd\".\n",
    "\n",
    "plt.boxplot(housing_df[\"house_size_in_sqft\"], vert=False)\n",
    "plt.xlabel(\"House Sizes in Square Feet\")\n",
    "plt.title(\"The Spread of House Property Size\")\n",
    "\n",
    "plt.show();"
   ]
  },
  {
   "cell_type": "code",
   "execution_count": 13,
   "id": "31f7558c-dc3a-4e1c-9cc8-fc3a3b184c96",
   "metadata": {},
   "outputs": [
    {
     "data": {
      "image/png": "[encoded data removed]",
      "text/plain": [
       "<Figure size 640x480 with 1 Axes>"
      ]
     },
     "metadata": {},
     "output_type": "display_data"
    }
   ],
   "source": [
    "# Histogram to understand the spread of House Sizes\n",
    "\n",
    "plt.hist(housing_df[\"house_size_in_sqft\"])\n",
    "plt.xlabel(\"Area [sq feet]\")\n",
    "plt.title(\"Distribution of House Sizes\")\n",
    "\n",
    "plt.show();"
   ]
  },
  {
   "cell_type": "code",
   "execution_count": 10,
   "id": "74c27977-2a9a-438d-8b93-d6b675784be0",
   "metadata": {},
   "outputs": [
    {
     "data": {
      "text/plain": [
       "count     2171.000000\n",
       "mean      4347.608936\n",
       "std       2063.935942\n",
       "min        150.000000\n",
       "25%       2856.000000\n",
       "50%       5852.000000\n",
       "75%       5896.000000\n",
       "max      14521.000000\n",
       "Name: house_size_in_sqft, dtype: float64"
      ]
     },
     "execution_count": 10,
     "metadata": {},
     "output_type": "execute_result"
    }
   ],
   "source": [
    "# Get Statistical Description of the \"house_size_in_sqft\"\n",
    "\n",
    "housing_df[\"house_size_in_sqft\"].describe()"
   ]
  },
  {
   "cell_type": "markdown",
   "id": "e69f2f32-0928-4b41-86da-004facfbc0d8",
   "metadata": {},
   "source": [
    "- The statistics above confirm what we suspected. While most of the properties in our dataset are between 2856 sqm and 5896 sqm we have others as lower as 150 sqm and others as big 14521 sqm and he best way is to identify those outliers and remove them. We can do this by utilizing the Inter Quartile Range and updating our Wrangle Function and removing them."
   ]
  },
  {
   "cell_type": "code",
   "execution_count": null,
   "id": "acba87a4-90b4-40c3-8e05-37853b4cc22e",
   "metadata": {},
   "outputs": [],
   "source": []
  }
 ],
 "metadata": {
  "kernelspec": {
   "display_name": "Python 3 (ipykernel)",
   "language": "python",
   "name": "python3"
  },
  "language_info": {
   "codemirror_mode": {
    "name": "ipython",
    "version": 3
   },
   "file_extension": ".py",
   "mimetype": "text/x-python",
   "name": "python",
   "nbconvert_exporter": "python",
   "pygments_lexer": "ipython3",
   "version": "3.12.4"
  }
 },
 "nbformat": 4,
 "nbformat_minor": 5
}
