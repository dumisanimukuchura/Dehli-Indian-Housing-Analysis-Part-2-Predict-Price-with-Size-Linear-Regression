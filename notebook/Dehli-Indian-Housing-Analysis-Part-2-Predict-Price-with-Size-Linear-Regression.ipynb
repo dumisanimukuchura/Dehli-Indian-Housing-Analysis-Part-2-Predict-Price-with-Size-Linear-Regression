{
 "cells": [
  {
   "cell_type": "markdown",
   "id": "8ee46014-2a2d-4d11-8759-9c4c73cbd34c",
   "metadata": {},
   "source": [
    "## Dehli Indian Housing Part 2 Predicting Price with Size using Linear Regression by Dumisani Maxwell Mukuchura\n",
    "\n",
    "#### Dataset Source: *https://www.kaggle.com/datasets/bhavyadhingra00020/india-rental-house-price*\n",
    "\n",
    "##### Contact: dumisanimukuchura@gmail.com | LinkedIn: https://www.linkedin.com/in/dumisani-maxwell-mukuchura-4859b7170/\n",
    "\n",
    "##### This Project will explore the Dehli Indian Housing and build a model predicting rental price from size. \n",
    "\n",
    "##### As seen from Part one Rental Price has a positive correlation of approx. 0.57 with House Size"
   ]
  },
  {
   "cell_type": "markdown",
   "id": "ca8b18f5-21a7-4071-9bbf-a440b928c748",
   "metadata": {},
   "source": [
    "## 1. Prepare Data"
   ]
  },
  {
   "cell_type": "markdown",
   "id": "21ad5bc1-b1ac-44bf-9b6f-323e3b2f8078",
   "metadata": {},
   "source": [
    "### Molule, Library and Data Imports"
   ]
  },
  {
   "cell_type": "code",
   "execution_count": 18,
   "id": "dfe7c429-dc53-438d-bffb-fb5d60dd4ef5",
   "metadata": {},
   "outputs": [],
   "source": [
    "#Import Standard Modules and Libraries to use\n",
    "\n",
    "import os #For file and directory operations\n",
    "\n",
    "#Data Libraries\n",
    "import pandas as pd\n",
    "import numpy as np\n",
    "\n",
    "#Visualization Libraries\n",
    "import matplotlib.pyplot as plt\n",
    "\n",
    "#Model Related Libraries: Linear Regression \n",
    "from sklearn.linear_model import LinearRegression\n",
    "from sklearn.metrics import mean_absolute_error\n",
    "from sklearn.utils.validation import check_is_fitted"
   ]
  },
  {
   "cell_type": "markdown",
   "id": "3e88e07c-5777-45d6-a919-f0b8ed7d6dd6",
   "metadata": {},
   "source": [
    "### Defining file path and import 'Dehli-Indian-Housing-Clean-Data.csv' from EDA Project"
   ]
  },
  {
   "cell_type": "code",
   "execution_count": 19,
   "id": "c88f5aa7-ee63-4922-ac0a-060fa9347958",
   "metadata": {},
   "outputs": [],
   "source": [
    "#Defining file path and import 'Dehli-Indian-Housing-Clean-Data.csv'\n",
    "# Get the current working directory\n",
    "current_dir = os.getcwd()\n",
    "\n",
    "# Trim to one level above\n",
    "base_dir = os.path.dirname(current_dir)\n",
    "\n",
    "# Construct the path to the data folder\n",
    "data_dir = os.path.join(base_dir, \"data\")\n",
    "\n",
    "# Construct the full path to the CSV file\n",
    "csv_file_path = os.path.join(data_dir, \"Dehli-Indian-Housing-Clean-Data.csv\")"
   ]
  },
  {
   "cell_type": "code",
   "execution_count": 45,
   "id": "9d47c0b5-4483-4399-a715-b72c72972f17",
   "metadata": {},
   "outputs": [],
   "source": [
    "# Wrangle function to automate the Data Importing and any Additional Cleaning\n",
    "\n",
    "def wrangle(csv_file_path):\n",
    "\n",
    "    # Read the CSV file into a DataFrame\n",
    "    housing_data = pd.read_csv(csv_file_path)\n",
    "\n",
    "    #Make a Copy and Maintain the original dataset as is \n",
    "    housing_df = housing_data.copy()\n",
    "\n",
    "    #Subset with \"house_size_in_sqft\" between 0.25 and 0.75 quartiles\n",
    "    low, high = housing_df[\"house_size_in_sqft\"].quantile([0.25, 0.75])\n",
    "    mask_area = housing_df[\"house_size_in_sqft\"].between(low, high)\n",
    "\n",
    "    housing_df = housing_df[mask_area]\n",
    "\n",
    "    return housing_df"
   ]
  },
  {
   "cell_type": "code",
   "execution_count": 27,
   "id": "765a7c05-f86f-46b9-a175-f955de79f95e",
   "metadata": {},
   "outputs": [
    {
     "name": "stdout",
     "output_type": "stream",
     "text": [
      "df shape: (1177, 19)\n"
     ]
    },
    {
     "data": {
      "text/html": [
       "<div>\n",
       "<style scoped>\n",
       "    .dataframe tbody tr th:only-of-type {\n",
       "        vertical-align: middle;\n",
       "    }\n",
       "\n",
       "    .dataframe tbody tr th {\n",
       "        vertical-align: top;\n",
       "    }\n",
       "\n",
       "    .dataframe thead th {\n",
       "        text-align: right;\n",
       "    }\n",
       "</style>\n",
       "<table border=\"1\" class=\"dataframe\">\n",
       "  <thead>\n",
       "    <tr style=\"text-align: right;\">\n",
       "      <th></th>\n",
       "      <th>house_type</th>\n",
       "      <th>location</th>\n",
       "      <th>city</th>\n",
       "      <th>latitude</th>\n",
       "      <th>longitude</th>\n",
       "      <th>price</th>\n",
       "      <th>currency</th>\n",
       "      <th>numBathrooms</th>\n",
       "      <th>numBalconies</th>\n",
       "      <th>isNegotiable</th>\n",
       "      <th>priceSqFt</th>\n",
       "      <th>verificationDate</th>\n",
       "      <th>description</th>\n",
       "      <th>SecurityDeposit</th>\n",
       "      <th>Status</th>\n",
       "      <th>numBedroom</th>\n",
       "      <th>house_layout</th>\n",
       "      <th>house_size_in_sqft</th>\n",
       "      <th>price_approx_usd</th>\n",
       "    </tr>\n",
       "  </thead>\n",
       "  <tbody>\n",
       "    <tr>\n",
       "      <th>2</th>\n",
       "      <td>Villa</td>\n",
       "      <td>Tuglak Road</td>\n",
       "      <td>Delhi</td>\n",
       "      <td>28.595453</td>\n",
       "      <td>77.210335</td>\n",
       "      <td>2010105</td>\n",
       "      <td>INR</td>\n",
       "      <td>4.0</td>\n",
       "      <td>2.0</td>\n",
       "      <td>Not Negotiable</td>\n",
       "      <td>4.21</td>\n",
       "      <td>Posted a year ago</td>\n",
       "      <td>Its four bhk villa in the super location of de...</td>\n",
       "      <td>60,10,155</td>\n",
       "      <td>Unfurnished</td>\n",
       "      <td>4</td>\n",
       "      <td>BHK</td>\n",
       "      <td>5562.0</td>\n",
       "      <td>23438.72</td>\n",
       "    </tr>\n",
       "    <tr>\n",
       "      <th>5</th>\n",
       "      <td>Independent Floor</td>\n",
       "      <td>Saket</td>\n",
       "      <td>Delhi</td>\n",
       "      <td>28.523548</td>\n",
       "      <td>77.200142</td>\n",
       "      <td>235595</td>\n",
       "      <td>INR</td>\n",
       "      <td>3.0</td>\n",
       "      <td>2.0</td>\n",
       "      <td>Not Negotiable</td>\n",
       "      <td>0.96</td>\n",
       "      <td>Posted a year ago</td>\n",
       "      <td>Its three bhk builder floor in the super locat...</td>\n",
       "      <td>7,54,225</td>\n",
       "      <td>Unfurnished</td>\n",
       "      <td>3</td>\n",
       "      <td>BHK</td>\n",
       "      <td>2856.0</td>\n",
       "      <td>2747.14</td>\n",
       "    </tr>\n",
       "    <tr>\n",
       "      <th>7</th>\n",
       "      <td>Independent Floor</td>\n",
       "      <td>Saket</td>\n",
       "      <td>Delhi</td>\n",
       "      <td>28.523548</td>\n",
       "      <td>77.200142</td>\n",
       "      <td>301012</td>\n",
       "      <td>INR</td>\n",
       "      <td>3.0</td>\n",
       "      <td>2.0</td>\n",
       "      <td>Not Negotiable</td>\n",
       "      <td>1.23</td>\n",
       "      <td>Posted a year ago</td>\n",
       "      <td>Well designed 3 bhk builder floor is available...</td>\n",
       "      <td>10,11,001</td>\n",
       "      <td>Unfurnished</td>\n",
       "      <td>3</td>\n",
       "      <td>BHK</td>\n",
       "      <td>2856.0</td>\n",
       "      <td>3509.93</td>\n",
       "    </tr>\n",
       "    <tr>\n",
       "      <th>8</th>\n",
       "      <td>Independent Floor</td>\n",
       "      <td>Saket</td>\n",
       "      <td>Delhi</td>\n",
       "      <td>28.523548</td>\n",
       "      <td>77.200142</td>\n",
       "      <td>301012</td>\n",
       "      <td>INR</td>\n",
       "      <td>3.0</td>\n",
       "      <td>2.0</td>\n",
       "      <td>Not Negotiable</td>\n",
       "      <td>1.23</td>\n",
       "      <td>Posted a year ago</td>\n",
       "      <td>Its three bhk builder floor in the super locat...</td>\n",
       "      <td>10,10,202</td>\n",
       "      <td>Unfurnished</td>\n",
       "      <td>3</td>\n",
       "      <td>BHK</td>\n",
       "      <td>2856.0</td>\n",
       "      <td>3509.93</td>\n",
       "    </tr>\n",
       "    <tr>\n",
       "      <th>11</th>\n",
       "      <td>Independent Floor</td>\n",
       "      <td>Maharani Bagh</td>\n",
       "      <td>Delhi</td>\n",
       "      <td>28.572620</td>\n",
       "      <td>77.264221</td>\n",
       "      <td>401015</td>\n",
       "      <td>INR</td>\n",
       "      <td>4.0</td>\n",
       "      <td>2.0</td>\n",
       "      <td>Not Negotiable</td>\n",
       "      <td>0.79</td>\n",
       "      <td>Posted a year ago</td>\n",
       "      <td>Its four bhk builder floor in the super locati...</td>\n",
       "      <td>12,02,002</td>\n",
       "      <td>Unfurnished</td>\n",
       "      <td>4</td>\n",
       "      <td>BHK</td>\n",
       "      <td>5896.0</td>\n",
       "      <td>4676.01</td>\n",
       "    </tr>\n",
       "  </tbody>\n",
       "</table>\n",
       "</div>"
      ],
      "text/plain": [
       "            house_type       location   city   latitude  longitude    price  \\\n",
       "2               Villa     Tuglak Road  Delhi  28.595453  77.210335  2010105   \n",
       "5   Independent Floor           Saket  Delhi  28.523548  77.200142   235595   \n",
       "7   Independent Floor           Saket  Delhi  28.523548  77.200142   301012   \n",
       "8   Independent Floor           Saket  Delhi  28.523548  77.200142   301012   \n",
       "11  Independent Floor   Maharani Bagh  Delhi  28.572620  77.264221   401015   \n",
       "\n",
       "   currency  numBathrooms  numBalconies    isNegotiable  priceSqFt  \\\n",
       "2       INR           4.0           2.0  Not Negotiable       4.21   \n",
       "5       INR           3.0           2.0  Not Negotiable       0.96   \n",
       "7       INR           3.0           2.0  Not Negotiable       1.23   \n",
       "8       INR           3.0           2.0  Not Negotiable       1.23   \n",
       "11      INR           4.0           2.0  Not Negotiable       0.79   \n",
       "\n",
       "     verificationDate                                        description  \\\n",
       "2   Posted a year ago  Its four bhk villa in the super location of de...   \n",
       "5   Posted a year ago  Its three bhk builder floor in the super locat...   \n",
       "7   Posted a year ago  Well designed 3 bhk builder floor is available...   \n",
       "8   Posted a year ago  Its three bhk builder floor in the super locat...   \n",
       "11  Posted a year ago  Its four bhk builder floor in the super locati...   \n",
       "\n",
       "   SecurityDeposit       Status  numBedroom house_layout  house_size_in_sqft  \\\n",
       "2        60,10,155  Unfurnished           4          BHK              5562.0   \n",
       "5         7,54,225  Unfurnished           3          BHK              2856.0   \n",
       "7        10,11,001  Unfurnished           3          BHK              2856.0   \n",
       "8        10,10,202  Unfurnished           3          BHK              2856.0   \n",
       "11       12,02,002  Unfurnished           4          BHK              5896.0   \n",
       "\n",
       "    price_approx_usd  \n",
       "2           23438.72  \n",
       "5            2747.14  \n",
       "7            3509.93  \n",
       "8            3509.93  \n",
       "11           4676.01  "
      ]
     },
     "execution_count": 27,
     "metadata": {},
     "output_type": "execute_result"
    }
   ],
   "source": [
    "#Using Wrangle funtion to create the housing_df DataFrame\n",
    "\n",
    "housing_df = wrangle(csv_file_path)\n",
    "\n",
    "#Check if the import was successful with a shape check\n",
    "print(\"df shape:\", housing_df.shape)\n",
    "\n",
    "#Check if the import was successful with a head() check\n",
    "housing_df.head()"
   ]
  },
  {
   "cell_type": "code",
   "execution_count": 28,
   "id": "f064d2c9-9b49-478c-afe3-ab1dd9237245",
   "metadata": {},
   "outputs": [
    {
     "name": "stdout",
     "output_type": "stream",
     "text": [
      "<class 'pandas.core.frame.DataFrame'>\n",
      "Index: 1177 entries, 2 to 2170\n",
      "Data columns (total 19 columns):\n",
      " #   Column              Non-Null Count  Dtype  \n",
      "---  ------              --------------  -----  \n",
      " 0   house_type          1177 non-null   object \n",
      " 1   location            1177 non-null   object \n",
      " 2   city                1177 non-null   object \n",
      " 3   latitude            1177 non-null   float64\n",
      " 4   longitude           1177 non-null   float64\n",
      " 5   price               1177 non-null   int64  \n",
      " 6   currency            1177 non-null   object \n",
      " 7   numBathrooms        1177 non-null   float64\n",
      " 8   numBalconies        1177 non-null   float64\n",
      " 9   isNegotiable        1177 non-null   object \n",
      " 10  priceSqFt           1177 non-null   float64\n",
      " 11  verificationDate    1177 non-null   object \n",
      " 12  description         1177 non-null   object \n",
      " 13  SecurityDeposit     1177 non-null   object \n",
      " 14  Status              1177 non-null   object \n",
      " 15  numBedroom          1177 non-null   int64  \n",
      " 16  house_layout        1177 non-null   object \n",
      " 17  house_size_in_sqft  1177 non-null   float64\n",
      " 18  price_approx_usd    1177 non-null   float64\n",
      "dtypes: float64(7), int64(2), object(10)\n",
      "memory usage: 183.9+ KB\n"
     ]
    }
   ],
   "source": [
    "# Checking DataFrame Details\n",
    "\n",
    "housing_df.info()"
   ]
  },
  {
   "cell_type": "markdown",
   "id": "2b802814-1a5d-49f5-b046-ad809af00043",
   "metadata": {},
   "source": [
    "## 2. Explore"
   ]
  },
  {
   "cell_type": "markdown",
   "id": "a9e78b53-189a-430a-b2cc-cdae3700f9d4",
   "metadata": {},
   "source": [
    "###  Further Analysis into the Two key Columns we shall need \"house_size_in_sqft\" and \"price_approx_usd\".\n",
    "\n",
    "- We saw in the previous project that property size is an important factor in determining price. With that in mind, let's look at the distribution of property sizes in our dataset."
   ]
  },
  {
   "cell_type": "code",
   "execution_count": 11,
   "id": "15e3fab7-ddb2-4bfc-bcc9-a4691405cdae",
   "metadata": {},
   "outputs": [
    {
     "data": {
      "image/png": "[encoded data removed]",
      "text/plain": [
       "<Figure size 640x480 with 1 Axes>"
      ]
     },
     "metadata": {},
     "output_type": "display_data"
    }
   ],
   "source": [
    "# Scatter Plot of \"house_size_in_sqft\" and \"price_approx_usd\".\n",
    "\n",
    "plt.scatter (x=housing_df[\"house_size_in_sqft\"], y=housing_df[\"price_approx_usd\"])\n",
    "plt.xlabel(\"House Sizes in Square Feet\")\n",
    "plt.ylabel(\"Price in US$\")\n",
    "plt.title(\"The Relationship between House Size and Price in US$\")\n",
    "\n",
    "plt.show();"
   ]
  },
  {
   "cell_type": "markdown",
   "id": "7819658c-b0fc-4cbc-9405-01300dbffb99",
   "metadata": {},
   "source": [
    "- From the relationship, we can notice a positive correlation, but we also have Outliers that need to be explored."
   ]
  },
  {
   "cell_type": "code",
   "execution_count": 23,
   "id": "ac7fb9e0-3b6c-437a-979c-7fc47e0cc6e3",
   "metadata": {},
   "outputs": [
    {
     "data": {
      "image/png": "[encoded data removed]",
      "text/plain": [
       "<Figure size 640x480 with 1 Axes>"
      ]
     },
     "metadata": {},
     "output_type": "display_data"
    }
   ],
   "source": [
    "# Box Plot of the Relationsing between Property Size and Property Price: \"house_size_in_sqft\" and \"price_approx_usd\".\n",
    "\n",
    "plt.boxplot(housing_df[\"house_size_in_sqft\"], vert=False)\n",
    "plt.xlabel(\"House Sizes in Square Feet\")\n",
    "plt.title(\"The Spread of House Property Size\")\n",
    "\n",
    "plt.show();"
   ]
  },
  {
   "cell_type": "code",
   "execution_count": 13,
   "id": "31f7558c-dc3a-4e1c-9cc8-fc3a3b184c96",
   "metadata": {},
   "outputs": [
    {
     "data": {
      "image/png": "[encoded data removed]",
      "text/plain": [
       "<Figure size 640x480 with 1 Axes>"
      ]
     },
     "metadata": {},
     "output_type": "display_data"
    }
   ],
   "source": [
    "# Histogram to understand the spread of House Sizes\n",
    "\n",
    "plt.hist(housing_df[\"house_size_in_sqft\"])\n",
    "plt.xlabel(\"Area [sq feet]\")\n",
    "plt.title(\"Distribution of House Sizes\")\n",
    "\n",
    "plt.show();"
   ]
  },
  {
   "cell_type": "code",
   "execution_count": 10,
   "id": "74c27977-2a9a-438d-8b93-d6b675784be0",
   "metadata": {},
   "outputs": [
    {
     "data": {
      "text/plain": [
       "count     2171.000000\n",
       "mean      4347.608936\n",
       "std       2063.935942\n",
       "min        150.000000\n",
       "25%       2856.000000\n",
       "50%       5852.000000\n",
       "75%       5896.000000\n",
       "max      14521.000000\n",
       "Name: house_size_in_sqft, dtype: float64"
      ]
     },
     "execution_count": 10,
     "metadata": {},
     "output_type": "execute_result"
    }
   ],
   "source": [
    "# Get Statistical Description of the \"house_size_in_sqft\"\n",
    "\n",
    "housing_df[\"house_size_in_sqft\"].describe()"
   ]
  },
  {
   "cell_type": "markdown",
   "id": "e69f2f32-0928-4b41-86da-004facfbc0d8",
   "metadata": {},
   "source": [
    "- The statistics above confirm what we suspected. While most of the properties in our dataset are between 2856 sqm and 5896 sqm we have others as lower as 150 sqm and others as big 14521 sqm and he best way is to identify those outliers and remove them. We can do this by utilizing the Inter Quartile Range and updating our Wrangle Function and removing them."
   ]
  },
  {
   "cell_type": "markdown",
   "id": "dbed4a21-341d-48cc-936b-3aeab0d05679",
   "metadata": {},
   "source": [
    "## 3. Split"
   ]
  },
  {
   "cell_type": "markdown",
   "id": "c8b30c3d-e7cf-442f-8cc0-dc304bbfb391",
   "metadata": {},
   "source": [
    "A key part in any model-building project is separating your **target** (the thing you want to predict) from your **features** (the information your model will use to make its predictions). Since this is our first model, we'll use just one feature: House Size: house_size_in_sqft."
   ]
  },
  {
   "cell_type": "code",
   "execution_count": 36,
   "id": "24a9aa1e-38a6-444a-9a0c-81e885829d04",
   "metadata": {},
   "outputs": [],
   "source": [
    "#Splitting Data Set to have Training Data and Testing Data\n",
    "\n",
    "# Randomly select 100 rows for the test set with a fixed random state considering our DataFrame has finally 1177 Rows\n",
    "housing_test_df = housing_df.sample(n=100, random_state=42)\n",
    "\n",
    "# Remove the selected rows from the original DataFrame to create the training set\n",
    "housing_training_df = housing_df.drop(housing_test_df.index)\n",
    "\n",
    "# Define the file names for the CSV files \n",
    "test_file = \"housing_test_data.csv\" \n",
    "training_file = \"housing_training_data.csv\" \n",
    "\n",
    "# Construct the full paths to the new CSV files \n",
    "csv_file_path1 = os.path.join(data_dir, test_file) \n",
    "csv_file_path2 = os.path.join(data_dir, training_file) \n",
    "\n",
    "# Export the test set to a CSV file\n",
    "housing_test_df.to_csv(csv_file_path1, index=False)\n",
    "\n",
    "# Optionally, you can also export the training set to a CSV file\n",
    "housing_training_df.to_csv(csv_file_path2, index=False)"
   ]
  },
  {
   "cell_type": "code",
   "execution_count": 37,
   "id": "fecbbfbb-1413-4607-9a91-247319aeb9bc",
   "metadata": {},
   "outputs": [
    {
     "name": "stdout",
     "output_type": "stream",
     "text": [
      "(1077,)\n"
     ]
    },
    {
     "data": {
      "text/html": [
       "<div>\n",
       "<style scoped>\n",
       "    .dataframe tbody tr th:only-of-type {\n",
       "        vertical-align: middle;\n",
       "    }\n",
       "\n",
       "    .dataframe tbody tr th {\n",
       "        vertical-align: top;\n",
       "    }\n",
       "\n",
       "    .dataframe thead th {\n",
       "        text-align: right;\n",
       "    }\n",
       "</style>\n",
       "<table border=\"1\" class=\"dataframe\">\n",
       "  <thead>\n",
       "    <tr style=\"text-align: right;\">\n",
       "      <th></th>\n",
       "      <th>house_size_in_sqft</th>\n",
       "    </tr>\n",
       "  </thead>\n",
       "  <tbody>\n",
       "    <tr>\n",
       "      <th>2</th>\n",
       "      <td>5562.0</td>\n",
       "    </tr>\n",
       "    <tr>\n",
       "      <th>5</th>\n",
       "      <td>2856.0</td>\n",
       "    </tr>\n",
       "    <tr>\n",
       "      <th>7</th>\n",
       "      <td>2856.0</td>\n",
       "    </tr>\n",
       "    <tr>\n",
       "      <th>8</th>\n",
       "      <td>2856.0</td>\n",
       "    </tr>\n",
       "    <tr>\n",
       "      <th>11</th>\n",
       "      <td>5896.0</td>\n",
       "    </tr>\n",
       "  </tbody>\n",
       "</table>\n",
       "</div>"
      ],
      "text/plain": [
       "    house_size_in_sqft\n",
       "2               5562.0\n",
       "5               2856.0\n",
       "7               2856.0\n",
       "8               2856.0\n",
       "11              5896.0"
      ]
     },
     "execution_count": 37,
     "metadata": {},
     "output_type": "execute_result"
    }
   ],
   "source": [
    "# Subset the Feature Matrix and the Target Vector using housing_training_df\n",
    "\n",
    "target = \"price_approx_usd\"\n",
    "feature = [\"house_size_in_sqft\"]\n",
    "y_train = housing_training_df[target]\n",
    "X_Train = housing_training_df[feature]\n",
    "print(y_train.shape)                    #To view a successful split into the Target Vectoe which should always be One-Dimensional\n",
    "X_Train.head()                          #To view a successful split into the Feature Matrix which should have a minimum of Two-Dimensions"
   ]
  },
  {
   "cell_type": "markdown",
   "id": "7ec11344-fd45-443d-8c26-6d96f9e01c82",
   "metadata": {},
   "source": [
    "## 4. Build Model"
   ]
  },
  {
   "cell_type": "markdown",
   "id": "2c7bae5c-cbae-4927-9f96-c7b3358e374e",
   "metadata": {},
   "source": [
    "### Baseline"
   ]
  },
  {
   "cell_type": "markdown",
   "id": "a025cbc0-5c91-4fb5-ad3b-9770ba4dca24",
   "metadata": {},
   "source": [
    "The first step in building a model is baselining. To do this, ask yourself how you will know if the model you build is performing well?\" One way to think about this is to see how a \"dumb\" model would perform on the same data. Some people also call this a naïve or baseline model, but it's always a model makes only one prediction — in this case, it predicts the same price regardless of an house size which is a MEAN or AVERAGE. So let's start by figuring out what our baseline model's prediction should be. "
   ]
  },
  {
   "cell_type": "code",
   "execution_count": 49,
   "id": "53ba617d-9d61-452f-acd5-4d697b5b8801",
   "metadata": {},
   "outputs": [
    {
     "name": "stdout",
     "output_type": "stream",
     "text": [
      "y mean is $ 4733.05\n"
     ]
    },
    {
     "data": {
      "text/plain": [
       "[4733.04782729805,\n",
       " 4733.04782729805,\n",
       " 4733.04782729805,\n",
       " 4733.04782729805,\n",
       " 4733.04782729805]"
      ]
     },
     "execution_count": 49,
     "metadata": {},
     "output_type": "execute_result"
    }
   ],
   "source": [
    "#Mean Calculation for it to be the Predicted Value\n",
    "\n",
    "y_mean = y_train.mean()\n",
    "print(\"y mean is $\", round(y_mean,2))\n",
    "y_pred_baseline = [y_mean] * len(y_train)  #Note y_mean is listed []\n",
    "y_pred_baseline[:5]"
   ]
  },
  {
   "cell_type": "code",
   "execution_count": 46,
   "id": "18d949a4-4417-4cba-bfd8-37d0dd9a028e",
   "metadata": {},
   "outputs": [
    {
     "data": {
      "image/png": "[encoded data removed]",
      "text/plain": [
       "<Figure size 640x480 with 1 Axes>"
      ]
     },
     "metadata": {},
     "output_type": "display_data"
    }
   ],
   "source": [
    "# Plot the Baseline against Scatter Plot with updated Cleaned Data\n",
    "\n",
    "plt.plot(X_Train.values, y_pred_baseline, color = \"orange\", label = \"Baseline Model\")\n",
    "plt.scatter (x=housing_df[\"house_size_in_sqft\"], y=housing_df[\"price_approx_usd\"])\n",
    "plt.xlabel(\"House Sizes in Square Feet\")\n",
    "plt.ylabel(\"Price in US$\")\n",
    "plt.title(\"The Relationship between House Size and Price in US$ with Baseline\")\n",
    "plt.legend(); #To allow printing of Baseline annotations \n",
    "\n",
    "plt.show();"
   ]
  },
  {
   "cell_type": "code",
   "execution_count": 50,
   "id": "887ade63-e462-4ad3-b512-9ccbdc20e648",
   "metadata": {},
   "outputs": [
    {
     "name": "stdout",
     "output_type": "stream",
     "text": [
      "The Baseline Mean Absolute Error: $ 1651.68\n"
     ]
    }
   ],
   "source": [
    "# Perfomance Metric for Mean Absolute Error \n",
    "\n",
    "baseline_mae = mean_absolute_error(y_train, y_pred_baseline)\n",
    "print(\"The Baseline Mean Absolute Error: $\", round(baseline_mae, 2))"
   ]
  },
  {
   "cell_type": "markdown",
   "id": "cb20c694-9927-4787-94b2-6a40b1bdf3a1",
   "metadata": {},
   "source": [
    "- Thus for this Baseline if we predict for every House to be of the Value equal to the Mean thus, **US$4733.04782729805**.\n",
    "  \n",
    "- We would be off with  +/- **US$1651.6847858101657** from the Actual Value. Now we go on to create a Model that will have to be better than the baseline "
   ]
  },
  {
   "cell_type": "markdown",
   "id": "14a00fd8-9dfc-46c4-b85d-3d7a5bb603c0",
   "metadata": {},
   "source": [
    "### Iterate"
   ]
  },
  {
   "cell_type": "code",
   "execution_count": 52,
   "id": "f1e43637-8033-4fcb-a62e-fa29d45d1502",
   "metadata": {},
   "outputs": [
    {
     "data": {
      "text/html": [
       "<style>#sk-container-id-1 {\n",
       "  /* Definition of color scheme common for light and dark mode */\n",
       "  --sklearn-color-text: black;\n",
       "  --sklearn-color-line: gray;\n",
       "  /* Definition of color scheme for unfitted estimators */\n",
       "  --sklearn-color-unfitted-level-0: #fff5e6;\n",
       "  --sklearn-color-unfitted-level-1: #f6e4d2;\n",
       "  --sklearn-color-unfitted-level-2: #ffe0b3;\n",
       "  --sklearn-color-unfitted-level-3: chocolate;\n",
       "  /* Definition of color scheme for fitted estimators */\n",
       "  --sklearn-color-fitted-level-0: #f0f8ff;\n",
       "  --sklearn-color-fitted-level-1: #d4ebff;\n",
       "  --sklearn-color-fitted-level-2: #b3dbfd;\n",
       "  --sklearn-color-fitted-level-3: cornflowerblue;\n",
       "\n",
       "  /* Specific color for light theme */\n",
       "  --sklearn-color-text-on-default-background: var(--sg-text-color, var(--theme-code-foreground, var(--jp-content-font-color1, black)));\n",
       "  --sklearn-color-background: var(--sg-background-color, var(--theme-background, var(--jp-layout-color0, white)));\n",
       "  --sklearn-color-border-box: var(--sg-text-color, var(--theme-code-foreground, var(--jp-content-font-color1, black)));\n",
       "  --sklearn-color-icon: #696969;\n",
       "\n",
       "  @media (prefers-color-scheme: dark) {\n",
       "    /* Redefinition of color scheme for dark theme */\n",
       "    --sklearn-color-text-on-default-background: var(--sg-text-color, var(--theme-code-foreground, var(--jp-content-font-color1, white)));\n",
       "    --sklearn-color-background: var(--sg-background-color, var(--theme-background, var(--jp-layout-color0, #111)));\n",
       "    --sklearn-color-border-box: var(--sg-text-color, var(--theme-code-foreground, var(--jp-content-font-color1, white)));\n",
       "    --sklearn-color-icon: #878787;\n",
       "  }\n",
       "}\n",
       "\n",
       "#sk-container-id-1 {\n",
       "  color: var(--sklearn-color-text);\n",
       "}\n",
       "\n",
       "#sk-container-id-1 pre {\n",
       "  padding: 0;\n",
       "}\n",
       "\n",
       "#sk-container-id-1 input.sk-hidden--visually {\n",
       "  border: 0;\n",
       "  clip: rect(1px 1px 1px 1px);\n",
       "  clip: rect(1px, 1px, 1px, 1px);\n",
       "  height: 1px;\n",
       "  margin: -1px;\n",
       "  overflow: hidden;\n",
       "  padding: 0;\n",
       "  position: absolute;\n",
       "  width: 1px;\n",
       "}\n",
       "\n",
       "#sk-container-id-1 div.sk-dashed-wrapped {\n",
       "  border: 1px dashed var(--sklearn-color-line);\n",
       "  margin: 0 0.4em 0.5em 0.4em;\n",
       "  box-sizing: border-box;\n",
       "  padding-bottom: 0.4em;\n",
       "  background-color: var(--sklearn-color-background);\n",
       "}\n",
       "\n",
       "#sk-container-id-1 div.sk-container {\n",
       "  /* jupyter's `normalize.less` sets `[hidden] { display: none; }`\n",
       "     but bootstrap.min.css set `[hidden] { display: none !important; }`\n",
       "     so we also need the `!important` here to be able to override the\n",
       "     default hidden behavior on the sphinx rendered scikit-learn.org.\n",
       "     See: https://github.com/scikit-learn/scikit-learn/issues/21755 */\n",
       "  display: inline-block !important;\n",
       "  position: relative;\n",
       "}\n",
       "\n",
       "#sk-container-id-1 div.sk-text-repr-fallback {\n",
       "  display: none;\n",
       "}\n",
       "\n",
       "div.sk-parallel-item,\n",
       "div.sk-serial,\n",
       "div.sk-item {\n",
       "  /* draw centered vertical line to link estimators */\n",
       "  background-image: linear-gradient(var(--sklearn-color-text-on-default-background), var(--sklearn-color-text-on-default-background));\n",
       "  background-size: 2px 100%;\n",
       "  background-repeat: no-repeat;\n",
       "  background-position: center center;\n",
       "}\n",
       "\n",
       "/* Parallel-specific style estimator block */\n",
       "\n",
       "#sk-container-id-1 div.sk-parallel-item::after {\n",
       "  content: \"\";\n",
       "  width: 100%;\n",
       "  border-bottom: 2px solid var(--sklearn-color-text-on-default-background);\n",
       "  flex-grow: 1;\n",
       "}\n",
       "\n",
       "#sk-container-id-1 div.sk-parallel {\n",
       "  display: flex;\n",
       "  align-items: stretch;\n",
       "  justify-content: center;\n",
       "  background-color: var(--sklearn-color-background);\n",
       "  position: relative;\n",
       "}\n",
       "\n",
       "#sk-container-id-1 div.sk-parallel-item {\n",
       "  display: flex;\n",
       "  flex-direction: column;\n",
       "}\n",
       "\n",
       "#sk-container-id-1 div.sk-parallel-item:first-child::after {\n",
       "  align-self: flex-end;\n",
       "  width: 50%;\n",
       "}\n",
       "\n",
       "#sk-container-id-1 div.sk-parallel-item:last-child::after {\n",
       "  align-self: flex-start;\n",
       "  width: 50%;\n",
       "}\n",
       "\n",
       "#sk-container-id-1 div.sk-parallel-item:only-child::after {\n",
       "  width: 0;\n",
       "}\n",
       "\n",
       "/* Serial-specific style estimator block */\n",
       "\n",
       "#sk-container-id-1 div.sk-serial {\n",
       "  display: flex;\n",
       "  flex-direction: column;\n",
       "  align-items: center;\n",
       "  background-color: var(--sklearn-color-background);\n",
       "  padding-right: 1em;\n",
       "  padding-left: 1em;\n",
       "}\n",
       "\n",
       "\n",
       "/* Toggleable style: style used for estimator/Pipeline/ColumnTransformer box that is\n",
       "clickable and can be expanded/collapsed.\n",
       "- Pipeline and ColumnTransformer use this feature and define the default style\n",
       "- Estimators will overwrite some part of the style using the `sk-estimator` class\n",
       "*/\n",
       "\n",
       "/* Pipeline and ColumnTransformer style (default) */\n",
       "\n",
       "#sk-container-id-1 div.sk-toggleable {\n",
       "  /* Default theme specific background. It is overwritten whether we have a\n",
       "  specific estimator or a Pipeline/ColumnTransformer */\n",
       "  background-color: var(--sklearn-color-background);\n",
       "}\n",
       "\n",
       "/* Toggleable label */\n",
       "#sk-container-id-1 label.sk-toggleable__label {\n",
       "  cursor: pointer;\n",
       "  display: block;\n",
       "  width: 100%;\n",
       "  margin-bottom: 0;\n",
       "  padding: 0.5em;\n",
       "  box-sizing: border-box;\n",
       "  text-align: center;\n",
       "}\n",
       "\n",
       "#sk-container-id-1 label.sk-toggleable__label-arrow:before {\n",
       "  /* Arrow on the left of the label */\n",
       "  content: \"▸\";\n",
       "  float: left;\n",
       "  margin-right: 0.25em;\n",
       "  color: var(--sklearn-color-icon);\n",
       "}\n",
       "\n",
       "#sk-container-id-1 label.sk-toggleable__label-arrow:hover:before {\n",
       "  color: var(--sklearn-color-text);\n",
       "}\n",
       "\n",
       "/* Toggleable content - dropdown */\n",
       "\n",
       "#sk-container-id-1 div.sk-toggleable__content {\n",
       "  max-height: 0;\n",
       "  max-width: 0;\n",
       "  overflow: hidden;\n",
       "  text-align: left;\n",
       "  /* unfitted */\n",
       "  background-color: var(--sklearn-color-unfitted-level-0);\n",
       "}\n",
       "\n",
       "#sk-container-id-1 div.sk-toggleable__content.fitted {\n",
       "  /* fitted */\n",
       "  background-color: var(--sklearn-color-fitted-level-0);\n",
       "}\n",
       "\n",
       "#sk-container-id-1 div.sk-toggleable__content pre {\n",
       "  margin: 0.2em;\n",
       "  border-radius: 0.25em;\n",
       "  color: var(--sklearn-color-text);\n",
       "  /* unfitted */\n",
       "  background-color: var(--sklearn-color-unfitted-level-0);\n",
       "}\n",
       "\n",
       "#sk-container-id-1 div.sk-toggleable__content.fitted pre {\n",
       "  /* unfitted */\n",
       "  background-color: var(--sklearn-color-fitted-level-0);\n",
       "}\n",
       "\n",
       "#sk-container-id-1 input.sk-toggleable__control:checked~div.sk-toggleable__content {\n",
       "  /* Expand drop-down */\n",
       "  max-height: 200px;\n",
       "  max-width: 100%;\n",
       "  overflow: auto;\n",
       "}\n",
       "\n",
       "#sk-container-id-1 input.sk-toggleable__control:checked~label.sk-toggleable__label-arrow:before {\n",
       "  content: \"▾\";\n",
       "}\n",
       "\n",
       "/* Pipeline/ColumnTransformer-specific style */\n",
       "\n",
       "#sk-container-id-1 div.sk-label input.sk-toggleable__control:checked~label.sk-toggleable__label {\n",
       "  color: var(--sklearn-color-text);\n",
       "  background-color: var(--sklearn-color-unfitted-level-2);\n",
       "}\n",
       "\n",
       "#sk-container-id-1 div.sk-label.fitted input.sk-toggleable__control:checked~label.sk-toggleable__label {\n",
       "  background-color: var(--sklearn-color-fitted-level-2);\n",
       "}\n",
       "\n",
       "/* Estimator-specific style */\n",
       "\n",
       "/* Colorize estimator box */\n",
       "#sk-container-id-1 div.sk-estimator input.sk-toggleable__control:checked~label.sk-toggleable__label {\n",
       "  /* unfitted */\n",
       "  background-color: var(--sklearn-color-unfitted-level-2);\n",
       "}\n",
       "\n",
       "#sk-container-id-1 div.sk-estimator.fitted input.sk-toggleable__control:checked~label.sk-toggleable__label {\n",
       "  /* fitted */\n",
       "  background-color: var(--sklearn-color-fitted-level-2);\n",
       "}\n",
       "\n",
       "#sk-container-id-1 div.sk-label label.sk-toggleable__label,\n",
       "#sk-container-id-1 div.sk-label label {\n",
       "  /* The background is the default theme color */\n",
       "  color: var(--sklearn-color-text-on-default-background);\n",
       "}\n",
       "\n",
       "/* On hover, darken the color of the background */\n",
       "#sk-container-id-1 div.sk-label:hover label.sk-toggleable__label {\n",
       "  color: var(--sklearn-color-text);\n",
       "  background-color: var(--sklearn-color-unfitted-level-2);\n",
       "}\n",
       "\n",
       "/* Label box, darken color on hover, fitted */\n",
       "#sk-container-id-1 div.sk-label.fitted:hover label.sk-toggleable__label.fitted {\n",
       "  color: var(--sklearn-color-text);\n",
       "  background-color: var(--sklearn-color-fitted-level-2);\n",
       "}\n",
       "\n",
       "/* Estimator label */\n",
       "\n",
       "#sk-container-id-1 div.sk-label label {\n",
       "  font-family: monospace;\n",
       "  font-weight: bold;\n",
       "  display: inline-block;\n",
       "  line-height: 1.2em;\n",
       "}\n",
       "\n",
       "#sk-container-id-1 div.sk-label-container {\n",
       "  text-align: center;\n",
       "}\n",
       "\n",
       "/* Estimator-specific */\n",
       "#sk-container-id-1 div.sk-estimator {\n",
       "  font-family: monospace;\n",
       "  border: 1px dotted var(--sklearn-color-border-box);\n",
       "  border-radius: 0.25em;\n",
       "  box-sizing: border-box;\n",
       "  margin-bottom: 0.5em;\n",
       "  /* unfitted */\n",
       "  background-color: var(--sklearn-color-unfitted-level-0);\n",
       "}\n",
       "\n",
       "#sk-container-id-1 div.sk-estimator.fitted {\n",
       "  /* fitted */\n",
       "  background-color: var(--sklearn-color-fitted-level-0);\n",
       "}\n",
       "\n",
       "/* on hover */\n",
       "#sk-container-id-1 div.sk-estimator:hover {\n",
       "  /* unfitted */\n",
       "  background-color: var(--sklearn-color-unfitted-level-2);\n",
       "}\n",
       "\n",
       "#sk-container-id-1 div.sk-estimator.fitted:hover {\n",
       "  /* fitted */\n",
       "  background-color: var(--sklearn-color-fitted-level-2);\n",
       "}\n",
       "\n",
       "/* Specification for estimator info (e.g. \"i\" and \"?\") */\n",
       "\n",
       "/* Common style for \"i\" and \"?\" */\n",
       "\n",
       ".sk-estimator-doc-link,\n",
       "a:link.sk-estimator-doc-link,\n",
       "a:visited.sk-estimator-doc-link {\n",
       "  float: right;\n",
       "  font-size: smaller;\n",
       "  line-height: 1em;\n",
       "  font-family: monospace;\n",
       "  background-color: var(--sklearn-color-background);\n",
       "  border-radius: 1em;\n",
       "  height: 1em;\n",
       "  width: 1em;\n",
       "  text-decoration: none !important;\n",
       "  margin-left: 1ex;\n",
       "  /* unfitted */\n",
       "  border: var(--sklearn-color-unfitted-level-1) 1pt solid;\n",
       "  color: var(--sklearn-color-unfitted-level-1);\n",
       "}\n",
       "\n",
       ".sk-estimator-doc-link.fitted,\n",
       "a:link.sk-estimator-doc-link.fitted,\n",
       "a:visited.sk-estimator-doc-link.fitted {\n",
       "  /* fitted */\n",
       "  border: var(--sklearn-color-fitted-level-1) 1pt solid;\n",
       "  color: var(--sklearn-color-fitted-level-1);\n",
       "}\n",
       "\n",
       "/* On hover */\n",
       "div.sk-estimator:hover .sk-estimator-doc-link:hover,\n",
       ".sk-estimator-doc-link:hover,\n",
       "div.sk-label-container:hover .sk-estimator-doc-link:hover,\n",
       ".sk-estimator-doc-link:hover {\n",
       "  /* unfitted */\n",
       "  background-color: var(--sklearn-color-unfitted-level-3);\n",
       "  color: var(--sklearn-color-background);\n",
       "  text-decoration: none;\n",
       "}\n",
       "\n",
       "div.sk-estimator.fitted:hover .sk-estimator-doc-link.fitted:hover,\n",
       ".sk-estimator-doc-link.fitted:hover,\n",
       "div.sk-label-container:hover .sk-estimator-doc-link.fitted:hover,\n",
       ".sk-estimator-doc-link.fitted:hover {\n",
       "  /* fitted */\n",
       "  background-color: var(--sklearn-color-fitted-level-3);\n",
       "  color: var(--sklearn-color-background);\n",
       "  text-decoration: none;\n",
       "}\n",
       "\n",
       "/* Span, style for the box shown on hovering the info icon */\n",
       ".sk-estimator-doc-link span {\n",
       "  display: none;\n",
       "  z-index: 9999;\n",
       "  position: relative;\n",
       "  font-weight: normal;\n",
       "  right: .2ex;\n",
       "  padding: .5ex;\n",
       "  margin: .5ex;\n",
       "  width: min-content;\n",
       "  min-width: 20ex;\n",
       "  max-width: 50ex;\n",
       "  color: var(--sklearn-color-text);\n",
       "  box-shadow: 2pt 2pt 4pt #999;\n",
       "  /* unfitted */\n",
       "  background: var(--sklearn-color-unfitted-level-0);\n",
       "  border: .5pt solid var(--sklearn-color-unfitted-level-3);\n",
       "}\n",
       "\n",
       ".sk-estimator-doc-link.fitted span {\n",
       "  /* fitted */\n",
       "  background: var(--sklearn-color-fitted-level-0);\n",
       "  border: var(--sklearn-color-fitted-level-3);\n",
       "}\n",
       "\n",
       ".sk-estimator-doc-link:hover span {\n",
       "  display: block;\n",
       "}\n",
       "\n",
       "/* \"?\"-specific style due to the `<a>` HTML tag */\n",
       "\n",
       "#sk-container-id-1 a.estimator_doc_link {\n",
       "  float: right;\n",
       "  font-size: 1rem;\n",
       "  line-height: 1em;\n",
       "  font-family: monospace;\n",
       "  background-color: var(--sklearn-color-background);\n",
       "  border-radius: 1rem;\n",
       "  height: 1rem;\n",
       "  width: 1rem;\n",
       "  text-decoration: none;\n",
       "  /* unfitted */\n",
       "  color: var(--sklearn-color-unfitted-level-1);\n",
       "  border: var(--sklearn-color-unfitted-level-1) 1pt solid;\n",
       "}\n",
       "\n",
       "#sk-container-id-1 a.estimator_doc_link.fitted {\n",
       "  /* fitted */\n",
       "  border: var(--sklearn-color-fitted-level-1) 1pt solid;\n",
       "  color: var(--sklearn-color-fitted-level-1);\n",
       "}\n",
       "\n",
       "/* On hover */\n",
       "#sk-container-id-1 a.estimator_doc_link:hover {\n",
       "  /* unfitted */\n",
       "  background-color: var(--sklearn-color-unfitted-level-3);\n",
       "  color: var(--sklearn-color-background);\n",
       "  text-decoration: none;\n",
       "}\n",
       "\n",
       "#sk-container-id-1 a.estimator_doc_link.fitted:hover {\n",
       "  /* fitted */\n",
       "  background-color: var(--sklearn-color-fitted-level-3);\n",
       "}\n",
       "</style><div id=\"sk-container-id-1\" class=\"sk-top-container\"><div class=\"sk-text-repr-fallback\"><pre>LinearRegression()</pre><b>In a Jupyter environment, please rerun this cell to show the HTML representation or trust the notebook. <br />On GitHub, the HTML representation is unable to render, please try loading this page with nbviewer.org.</b></div><div class=\"sk-container\" hidden><div class=\"sk-item\"><div class=\"sk-estimator fitted sk-toggleable\"><input class=\"sk-toggleable__control sk-hidden--visually\" id=\"sk-estimator-id-1\" type=\"checkbox\" checked><label for=\"sk-estimator-id-1\" class=\"sk-toggleable__label fitted sk-toggleable__label-arrow fitted\">&nbsp;&nbsp;LinearRegression<a class=\"sk-estimator-doc-link fitted\" rel=\"noreferrer\" target=\"_blank\" href=\"https://scikit-learn.org/1.5/modules/generated/sklearn.linear_model.LinearRegression.html\">?<span>Documentation for LinearRegression</span></a><span class=\"sk-estimator-doc-link fitted\">i<span>Fitted</span></span></label><div class=\"sk-toggleable__content fitted\"><pre>LinearRegression()</pre></div> </div></div></div></div>"
      ],
      "text/plain": [
       "LinearRegression()"
      ]
     },
     "execution_count": 52,
     "metadata": {},
     "output_type": "execute_result"
    }
   ],
   "source": [
    "# Instantiate the Linear Regression Model\n",
    "\n",
    "model = LinearRegression()\n",
    "\n",
    "# Fit the Model to Training Data \n",
    "model.fit(X_Train, y_train)"
   ]
  },
  {
   "cell_type": "code",
   "execution_count": 54,
   "id": "0759be6e-712f-40ea-b895-3eaf9532f511",
   "metadata": {},
   "outputs": [],
   "source": [
    "# Check if the Model is Fitted\n",
    "check_is_fitted(model)"
   ]
  },
  {
   "cell_type": "code",
   "execution_count": 55,
   "id": "6127545f-6274-4602-8e9d-43724b74f26d",
   "metadata": {},
   "outputs": [
    {
     "data": {
      "text/plain": [
       "array([5388.06589046, 3442.64109551, 3442.64109551, 3442.64109551,\n",
       "       5628.18853699])"
      ]
     },
     "execution_count": 55,
     "metadata": {},
     "output_type": "execute_result"
    }
   ],
   "source": [
    "#Check the model against its own Training Data, X_Train\n",
    "y_pred_training = model.predict(X_Train)\n",
    "y_pred_training[:5] #view the results in an array"
   ]
  },
  {
   "cell_type": "code",
   "execution_count": 60,
   "id": "d109a33f-15d8-42a2-bbb4-9241fe3fb9d7",
   "metadata": {},
   "outputs": [
    {
     "name": "stdout",
     "output_type": "stream",
     "text": [
      "The Mean Absolute Error of the Model when tested on its Training Data is $ 1544.43\n"
     ]
    }
   ],
   "source": [
    "# Calculate the Model's Mean Absolute Error when it is Training Data \n",
    "training_mae = mean_absolute_error(y_train, y_pred_training)\n",
    "print(\"The Mean Absolute Error of the Model when tested on its Training Data is $\", training_mae.round(2))"
   ]
  },
  {
   "cell_type": "markdown",
   "id": "3c435742-7c30-4460-b6e1-05a61af8c711",
   "metadata": {},
   "source": [
    "The Model's Mean Absolute Error is $1544.43 which is less than the Baseline showing that the model performs better than the Baseline which had a Mean Absolute Error of $ 1651.68"
   ]
  },
  {
   "cell_type": "markdown",
   "id": "8327799a-5f27-4606-8aea-a6a51b7debe8",
   "metadata": {},
   "source": [
    "### Testing "
   ]
  },
  {
   "cell_type": "code",
   "execution_count": 62,
   "id": "1cc2942c-0661-4ebb-9095-f76dfb55fecd",
   "metadata": {},
   "outputs": [
    {
     "name": "stdout",
     "output_type": "stream",
     "text": [
      "The Mean Absolute Error of the Model when tested on Test Data is $ 1191.67\n"
     ]
    }
   ],
   "source": [
    "#Check the Performance of the Model on Test Data\n",
    "y_test = housing_test_df[target]\n",
    "X_Test = housing_test_df[feature]\n",
    "y_pred_test = model.predict(X_Test)\n",
    "\n",
    "test_mae = mean_absolute_error(y_test, y_pred_test)\n",
    "print(\"The Mean Absolute Error of the Model when tested on Test Data is $\", test_mae.round(2))"
   ]
  },
  {
   "cell_type": "markdown",
   "id": "d1336db2-4682-4cb9-865a-3453512bcd6b",
   "metadata": {},
   "source": [
    "The Model's Mean Absolute Error on Test Data is also much improved than the MAE's of the Baseline and also when tested against its own Training Data. Now we move on to communicate the results and the Model as a Mathematical Equation"
   ]
  },
  {
   "cell_type": "markdown",
   "id": "7c6a9f1c-fb9f-4038-b065-eb403ceef1c7",
   "metadata": {},
   "source": [
    "## 5. Communicate"
   ]
  },
  {
   "cell_type": "markdown",
   "id": "4a9752a3-d221-41dd-8b5a-bf92fae421eb",
   "metadata": {},
   "source": [
    "We can represent our Model as a Linear Equation y = mx + c where we have to find the coefficient and also the y-intercept and generate the full equation"
   ]
  },
  {
   "cell_type": "code",
   "execution_count": 68,
   "id": "76165c9d-4f45-4b7f-bbcd-0e3e358f26dd",
   "metadata": {},
   "outputs": [
    {
     "name": "stdout",
     "output_type": "stream",
     "text": [
      "Model Coefficient: 0.72\n",
      "Model Intercept: 1389.38\n",
      "The Model Equation: housing_price_in_usd = 0.72 * house_size_in_sqft + 1389.38\n"
     ]
    }
   ],
   "source": [
    "# Generating the Equation\n",
    "coefficient = round(model.coef_[0], 2)\n",
    "intercept = round(model.intercept_, 2)\n",
    "print(\"Model Coefficient:\", coefficient)\n",
    "print(\"Model Intercept:\", intercept)\n",
    "\n",
    "print(f\"The Model Equation: housing_price_in_usd = {coefficient} * house_size_in_sqft + {intercept}\") "
   ]
  },
  {
   "cell_type": "code",
   "execution_count": 69,
   "id": "8a4a2c50-db4f-4e26-ac75-870c0672dc17",
   "metadata": {},
   "outputs": [
    {
     "data": {
      "image/png": "[encoded data removed]",
      "text/plain": [
       "<Figure size 640x480 with 1 Axes>"
      ]
     },
     "metadata": {},
     "output_type": "display_data"
    }
   ],
   "source": [
    "# Generating the plot to visualize the Linear Model \n",
    "\n",
    "plt.plot(X_Train.values, model.predict(X_Train), color = \"magenta\", label = \"Linear Model\")\n",
    "plt.scatter(X_Train, y_train)\n",
    "plt.xlabel(\"House Sizes in Square Feet\")\n",
    "plt.ylabel(\"Price in USD\")\n",
    "plt.title(\"The Relationship between House Size and Price in US$ with Linear Model\")\n",
    "\n",
    "plt.legend();\n",
    "\n",
    "plt.show();"
   ]
  },
  {
   "cell_type": "markdown",
   "id": "d3fa0376-f596-4ca6-937e-cd0f68564c8e",
   "metadata": {},
   "source": [
    "## 6: Conclusion \n",
    "\n",
    "With this Project the Linear Regression model was used to predict House Prices from House Size and went through the following stages:\n",
    "1. Prepare Data: Import Data\n",
    "2. Explore: Further Cleaning: Correlation, Outliers.\n",
    "3. Split: Training Data and Test Data as well as splitting the Training Data to have Feature Matrix and the Target Vector\n",
    "4. Build Model: Baseline, Iterate, Test\n",
    "5. Communicate: With an Equation and also a Graphical View"
   ]
  }
 ],
 "metadata": {
  "kernelspec": {
   "display_name": "Python 3 (ipykernel)",
   "language": "python",
   "name": "python3"
  },
  "language_info": {
   "codemirror_mode": {
    "name": "ipython",
    "version": 3
   },
   "file_extension": ".py",
   "mimetype": "text/x-python",
   "name": "python",
   "nbconvert_exporter": "python",
   "pygments_lexer": "ipython3",
   "version": "3.12.4"
  }
 },
 "nbformat": 4,
 "nbformat_minor": 5
}
